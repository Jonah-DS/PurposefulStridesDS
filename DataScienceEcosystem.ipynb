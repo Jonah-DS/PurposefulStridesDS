{
 "cells": [
  {
   "cell_type": "markdown",
   "id": "1cb43579-90db-449a-8afa-b6c6ef6f1139",
   "metadata": {},
   "source": [
    "# Data Science Tools and Ecosystem"
   ]
  },
  {
   "cell_type": "markdown",
   "id": "87f36f26-05b6-4c54-a3a1-21b2f590538d",
   "metadata": {},
   "source": [
    "In this notebook, Data Science Tools and Ecosystem are summarized."
   ]
  },
  {
   "cell_type": "markdown",
   "id": "adb59f79-5862-47b9-a876-a5531b834d60",
   "metadata": {},
   "source": [
    "Some of the popular languages that Data Scientists use are:\n",
    "\n",
    "1. Python\n",
    "2. R\n",
    "3. SQL\n",
    "4. Scala\n",
    "5. Java\n",
    "6. C++\n",
    "7. Julia"
   ]
  },
  {
   "cell_type": "markdown",
   "id": "05f2b48b-bf5d-4d51-a81f-ba1438142aa9",
   "metadata": {},
   "source": [
    "Some of the commonly used libraries used by Data Scientists include:\n",
    "\n",
    "1. Pandas\n",
    "2. NumPy\n",
    "3. Matplotlib\n",
    "4. Seaborn\n",
    "5. Scikit-learn"
   ]
  },
  {
   "cell_type": "markdown",
   "id": "30eff29c-c843-4fc4-9b51-18cbe8136410",
   "metadata": {},
   "source": [
    "|Data Science Tools|\n",
    "| ------------------|\n",
    "|Jupyter Notebook|\n",
    "|RStudio|\n",
    "|Anaconda|\n",
    "|VS Code|\n",
    "|GitHub|\n",
    "|Watson Studio|"
   ]
  },
  {
   "cell_type": "markdown",
   "id": "340e362b-5fbe-4c40-a998-c03265751fb9",
   "metadata": {},
   "source": [
    "### Below are a few examples of evaluating arithmetic expressions in Python"
   ]
  },
  {
   "cell_type": "code",
   "execution_count": 3,
   "id": "263fe7a5-efe0-4e30-b837-a0122c2c598a",
   "metadata": {},
   "outputs": [
    {
     "data": {
      "text/plain": [
       "17"
      ]
     },
     "execution_count": 3,
     "metadata": {},
     "output_type": "execute_result"
    }
   ],
   "source": [
    "(3*4)+5\n",
    "#This a simple arithmetic expression to mutiply then add integers"
   ]
  },
  {
   "cell_type": "code",
   "execution_count": 7,
   "id": "2e71223e-46d9-49a8-9733-c435b331f995",
   "metadata": {},
   "outputs": [
    {
     "data": {
      "text/plain": [
       "3.3333333333333335"
      ]
     },
     "execution_count": 7,
     "metadata": {},
     "output_type": "execute_result"
    }
   ],
   "source": [
    "200/60\n",
    "#This will convert 200 minutes to hours by diving by 60"
   ]
  },
  {
   "cell_type": "markdown",
   "id": "f37b6875-9008-4bcf-a15c-915992c960b8",
   "metadata": {
    "jp-MarkdownHeadingCollapsed": true
   },
   "source": [
    "**Objectives:**\n",
    "\n",
    "* List popular languages for Data Science\n",
    "* List commonly used libraries for Data Science\n",
    "* List popular tools used by Data Scientists"
   ]
  },
  {
   "cell_type": "markdown",
   "id": "06425b5a-5584-4516-ba3c-1b2bd6cec10e",
   "metadata": {},
   "source": [
    "## Author\n",
    "Jongoh Kim"
   ]
  }
 ],
 "metadata": {
  "kernelspec": {
   "display_name": "Python [conda env:Jonah_first_env]",
   "language": "python",
   "name": "conda-env-Jonah_first_env-py"
  },
  "language_info": {
   "codemirror_mode": {
    "name": "ipython",
    "version": 3
   },
   "file_extension": ".py",
   "mimetype": "text/x-python",
   "name": "python",
   "nbconvert_exporter": "python",
   "pygments_lexer": "ipython3",
   "version": "3.12.9"
  }
 },
 "nbformat": 4,
 "nbformat_minor": 5
}
